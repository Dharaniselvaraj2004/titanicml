{
 "cells": [
  {
   "cell_type": "markdown",
   "metadata": {},
   "source": [
    "# Titanic Dataset ML Addendum\n",
    "Kasey Cox / March 2018\n",
    "\n",
    "### Question: Did a passenger survive the sinking of the Titanic or not?\n",
    "My previous exploration of the Titanic dataset -- finding which passenger characteristics correlate with survival -- will serve as a basis for feature selection in this addendum.\n",
    "\n",
    "For this part of the project, a machine learning algorithm will be developed and deployed to predict which passengers survived the sinking of the Titanic.\n",
    "\n",
    "### Final output\n",
    "_From Kaggle.com_:  \n",
    "> You should submit a csv file with exactly 418 entries plus a header row. Your submission will show an error if you have extra columns (beyond PassengerId and Survived) or rows.  \n",
    "> \n",
    "> The file should have exactly 2 columns:  \n",
    "> - PassengerId (sorted in any order)  \n",
    "> - Survived (contains your binary predictions: 1 for survived, 0 for deceased)"
   ]
  },
  {
   "cell_type": "code",
   "execution_count": 1,
   "metadata": {
    "collapsed": false,
    "scrolled": true
   },
   "outputs": [
    {
     "data": {
      "application/javascript": [
       "IPython.notebook.set_autosave_interval(0)"
      ]
     },
     "metadata": {},
     "output_type": "display_data"
    },
    {
     "name": "stdout",
     "output_type": "stream",
     "text": [
      "Autosave disabled\n"
     ]
    }
   ],
   "source": [
    "# General imports and settings\n",
    "%autosave 0\n",
    "import numpy as np\n",
    "import pandas as pd"
   ]
  },
  {
   "cell_type": "markdown",
   "metadata": {},
   "source": [
    "***\n",
    "# Strategy\n",
    "\n",
    "1. Import and investigate (provided) train and test sets.\n",
    "2. Feature selection\n",
    "    - Use previous exploration to inform choices\n",
    "3. Feature engineering\n",
    "    - As appropriate\n",
    "4. Select a classifier\n",
    "    - Try and test (accuracy, precision, recall) classifiers\n",
    "5. Dump predictions as csv\n",
    "\n",
    "### 1. Import and investigate (provided) train and test sets."
   ]
  },
  {
   "cell_type": "code",
   "execution_count": 2,
   "metadata": {
    "collapsed": false
   },
   "outputs": [
    {
     "name": "stdout",
     "output_type": "stream",
     "text": [
      "train: (891, 12) \n",
      "Index([u'PassengerId', u'Survived', u'Pclass', u'Name', u'Sex', u'Age',\n",
      "       u'SibSp', u'Parch', u'Ticket', u'Fare', u'Cabin', u'Embarked'],\n",
      "      dtype='object') \n",
      "12 \n",
      "\n",
      "test: (418, 11) \n",
      "Index([u'PassengerId', u'Pclass', u'Name', u'Sex', u'Age', u'SibSp', u'Parch',\n",
      "       u'Ticket', u'Fare', u'Cabin', u'Embarked'],\n",
      "      dtype='object') \n",
      "11\n"
     ]
    }
   ],
   "source": [
    "# Import train.csv and test.csv as Pandas DataFrames\n",
    "train_df = pd.read_csv('train.csv', header=0)\n",
    "print \"train:\", train_df.shape, \"\\n\", train_df.columns, \"\\n\", len(train_df.columns), \"\\n\"\n",
    "\n",
    "test_df = pd.read_csv('test.csv', header=0)\n",
    "print \"test:\", test_df.shape, \"\\n\", test_df.columns, \"\\n\", len(test_df.columns)"
   ]
  },
  {
   "cell_type": "code",
   "execution_count": 3,
   "metadata": {
    "collapsed": false
   },
   "outputs": [
    {
     "name": "stdout",
     "output_type": "stream",
     "text": [
      "Index([u'Passenger_ID', u'Survived', u'Class', u'Name', u'Sex', u'Age',\n",
      "       u'Siblings_spouses_aboard', u'Parents_children_aboard', u'Ticket',\n",
      "       u'Fare', u'Cabin_num', u'Port_of_Embarkation'],\n",
      "      dtype='object') \n",
      "12 \n",
      "\n",
      "Index([u'Passenger_ID', u'Class', u'Name', u'Sex', u'Age',\n",
      "       u'Siblings_spouses_aboard', u'Parents_children_aboard', u'Ticket',\n",
      "       u'Fare', u'Cabin_num', u'Port_of_Embarkation'],\n",
      "      dtype='object') \n",
      "11\n"
     ]
    }
   ],
   "source": [
    "# Rename some features to make meaning more clear\n",
    "new_train_cols = ['Passenger_ID', 'Survived', 'Class', 'Name', 'Sex', 'Age',\n",
    "       'Siblings_spouses_aboard', 'Parents_children_aboard', 'Ticket', 'Fare', 'Cabin_num', 'Port_of_Embarkation']\n",
    "train_df.columns = new_train_cols\n",
    "print train_df.columns, \"\\n\", len(train_df.columns), \"\\n\"\n",
    "\n",
    "new_test_cols = ['Passenger_ID', 'Class', 'Name', 'Sex', 'Age',\n",
    "       'Siblings_spouses_aboard', 'Parents_children_aboard', 'Ticket', 'Fare', 'Cabin_num', 'Port_of_Embarkation']\n",
    "test_df.columns = new_test_cols\n",
    "print test_df.columns, \"\\n\", len(test_df.columns)"
   ]
  },
  {
   "cell_type": "code",
   "execution_count": 4,
   "metadata": {
    "collapsed": false
   },
   "outputs": [
    {
     "name": "stdout",
     "output_type": "stream",
     "text": [
      "[0 1] \n",
      "\n",
      "Distribution:\n",
      "0    549\n",
      "1    342\n",
      "Name: Survived, dtype: int64\n"
     ]
    }
   ],
   "source": [
    "# Check distribution of Survived in training set\n",
    "print train_df['Survived'].unique(), \"\\n\"\n",
    "\n",
    "print \"Distribution:\\n\", train_df['Survived'].value_counts()"
   ]
  },
  {
   "cell_type": "code",
   "execution_count": 5,
   "metadata": {
    "collapsed": false
   },
   "outputs": [
    {
     "name": "stdout",
     "output_type": "stream",
     "text": [
      "NaNs in training set features:\n",
      "Passenger_ID: 0\n",
      "Survived: 0\n",
      "Class: 0\n",
      "Name: 0\n",
      "Sex: 0\n",
      "Age: 177\n",
      "Siblings_spouses_aboard: 0\n",
      "Parents_children_aboard: 0\n",
      "Ticket: 0\n",
      "Fare: 0\n",
      "Cabin_num: 687\n",
      "Port_of_Embarkation: 2\n"
     ]
    }
   ],
   "source": [
    "# Check for NaNs in training\n",
    "print \"NaNs in training set features:\"\n",
    "for col in train_df.columns:\n",
    "    print str(col) + \":\", train_df[train_df[col].isnull()].shape[0]"
   ]
  },
  {
   "cell_type": "markdown",
   "metadata": {},
   "source": [
    "Age did not correlate with survival, so it does not matter that there are many missing values since we will not select it as a feature."
   ]
  },
  {
   "cell_type": "code",
   "execution_count": 6,
   "metadata": {
    "collapsed": false
   },
   "outputs": [
    {
     "name": "stdout",
     "output_type": "stream",
     "text": [
      "NaNs in test set features:\n",
      "Passenger_ID: 0\n",
      "Class: 0\n",
      "Name: 0\n",
      "Sex: 0\n",
      "Age: 86\n",
      "Siblings_spouses_aboard: 0\n",
      "Parents_children_aboard: 0\n",
      "Ticket: 0\n",
      "Fare: 1\n",
      "Cabin_num: 327\n",
      "Port_of_Embarkation: 0\n"
     ]
    }
   ],
   "source": [
    "# Check for NaNs in test\n",
    "print \"NaNs in test set features:\"\n",
    "for col in test_df.columns:\n",
    "    print str(col) + \":\", test_df[test_df[col].isnull()].shape[0]"
   ]
  },
  {
   "cell_type": "markdown",
   "metadata": {},
   "source": [
    "### 2. Feature selection"
   ]
  },
  {
   "cell_type": "markdown",
   "metadata": {},
   "source": [
    "### 3. Feature Engineering"
   ]
  },
  {
   "cell_type": "markdown",
   "metadata": {},
   "source": [
    "### 4. Select a classifier"
   ]
  },
  {
   "cell_type": "markdown",
   "metadata": {},
   "source": [
    "### 5. Dump predictions as csv"
   ]
  }
 ],
 "metadata": {
  "kernelspec": {
   "display_name": "Python 2",
   "language": "python",
   "name": "python2"
  },
  "language_info": {
   "codemirror_mode": {
    "name": "ipython",
    "version": 2
   },
   "file_extension": ".py",
   "mimetype": "text/x-python",
   "name": "python",
   "nbconvert_exporter": "python",
   "pygments_lexer": "ipython2",
   "version": "2.7.13"
  }
 },
 "nbformat": 4,
 "nbformat_minor": 2
}
